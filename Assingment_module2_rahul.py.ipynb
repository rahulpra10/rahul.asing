{
 "cells": [
  {
   "cell_type": "code",
   "execution_count": null,
   "id": "548acb75",
   "metadata": {},
   "outputs": [],
   "source": [
    "#What is the purpose continue statement in python?\n",
    "#The continue statement reject all the ramaining statement\n",
    "# in the current iteration of the loop and move the cantrol \n",
    "# back to the top of the loop.\n",
    "# The continue statement can be used  in both while and for loop."
   ]
  },
  {
   "cell_type": "code",
   "execution_count": null,
   "id": "571f7f3d",
   "metadata": {},
   "outputs": [],
   "source": [
    "#write python program that swap to number with temp veriable.\n",
    "\n",
    "a = int(input(\"Enter the value for a: \"))\n",
    "b = int (input(\"Enter the value for b: \"))\n",
    "print (a)# value before swaping\n",
    "print (b)\n",
    "temp =a\n",
    "a=b\n",
    "b=temp\n",
    "print(\"Value of a after swaping is : \",a)\n",
    "print(\"Value of b after swaping is : \",b)\n",
    "\n",
    "#write pyhton program that swap to number without temp veiable\n",
    "\n",
    "A = int(input(\"Enter value for A: \"))\n",
    "B = int (input(\"Enter value for B: \"))\n",
    "A = A + B\n",
    "B = A - B\n",
    "A = A - B\n",
    "print (\"The value of A: \",A)\n",
    "print (\"The value of B: \",B)"
   ]
  },
  {
   "cell_type": "code",
   "execution_count": null,
   "id": "f29bb4b4",
   "metadata": {},
   "outputs": [],
   "source": [
    "#write a python program to find whether  a given number is even or odd\n",
    "num = (int(input(\"Enter only positive number: \")))\n",
    "if num%2==0:\n",
    "    print (\"The is EVEN number: \") \n",
    "elif num == 0:\n",
    "    print(\"invalid option\")\n",
    "    \n",
    "else:\n",
    "        print (\"The is ODD number: \")"
   ]
  },
  {
   "cell_type": "code",
   "execution_count": null,
   "id": "d244250e",
   "metadata": {},
   "outputs": [],
   "source": [
    "#Write a Python program to test whether a passed letter is a vowel or not.\n",
    "\n",
    "vo = str(input(\"Enter a any one alphabet: \"))\n",
    "if vo == 'a' or vo == 'e' or vo == 'i' or vo == 'o' or vo== 'u' or vo=='A'or vo == 'E' or vo =='I' or vo=='O' or vo=='U':\n",
    "    print(\"This is a vowel:-\")\n",
    "else:\n",
    "    print(\"THis is a not vowel:-\")"
   ]
  },
  {
   "cell_type": "code",
   "execution_count": null,
   "id": "3d3e71c1",
   "metadata": {},
   "outputs": [],
   "source": [
    "#Write a Python program to sum of three given integers. However, if two\n",
    "# values are equal sum will be zero.\n",
    "\n",
    "add1=int(input(\"Enter the 1st number\"))\n",
    "add2= int(input(\"Enter the 2nd number\"))\n",
    "add3= int (input(\"Enter the 3rd nubmer\"))\n",
    "sum = add1+add2+add3\n",
    "if add1 ==add2 or add2 ==add3 or add3 ==add1:\n",
    "    print(\"zero\")\n",
    "else:\n",
    "    print(\"sum is: \",sum)"
   ]
  },
  {
   "cell_type": "code",
   "execution_count": null,
   "id": "bf54d3d6",
   "metadata": {},
   "outputs": [],
   "source": [
    "#Write a Python program that will return true if the two given integer values\n",
    "# are equal or their sum or difference is 5.\n",
    "\n",
    "num1 = int(input(\"Enter the 1st number: \"))\n",
    "num2 = int (input(\"Enter the 2nd number: \"))\n",
    "if num1 ==num2 or num1+num2==5 or num1-num2==5:\n",
    "    print(\"true\")\n",
    "else:\n",
    "    print(\"false\")"
   ]
  },
  {
   "cell_type": "code",
   "execution_count": null,
   "id": "0ad68098",
   "metadata": {},
   "outputs": [],
   "source": [
    "#Write a python program to sum of the first n positive integers.\n",
    "\n",
    "n = int(input(\"enter the number: \"))\n",
    "f = 0\n",
    "for i in range(1,n+1):\n",
    "    f = f+i\n",
    "print(\"sum of the number\" ,n,\" is :\",f)"
   ]
  },
  {
   "cell_type": "code",
   "execution_count": null,
   "id": "71d64eed",
   "metadata": {},
   "outputs": [],
   "source": [
    "#Write a Python program to calculate the length of a string.\n",
    "\n",
    "a= str(input(\"Enter the string:\"))\n",
    "t = 0 \n",
    "for i in a:\n",
    "    t =t+1\n",
    "print (\"string lenght is : \",t)\n",
    "\n",
    "#find lenght of string with len function\n",
    "\n",
    "a = str(input(\"enter the string: \"))\n",
    "b = len(a)\n",
    "print(\"The lenght of str with len is :\" b)"
   ]
  },
  {
   "cell_type": "code",
   "execution_count": null,
   "id": "39d82f0b",
   "metadata": {},
   "outputs": [],
   "source": [
    "#Write a Python program to count the number of characters (character\n",
    "# frequency) in a string\n",
    "\n",
    "string = input('Enter the string')\n",
    "c = input(\"enter character to check frequency\")\n",
    "count =0 \n",
    "for i in string:\n",
    "    if i==c:\n",
    "        count+=1\n",
    "print (c,\"occurs\",count,\"times\")"
   ]
  },
  {
   "cell_type": "code",
   "execution_count": null,
   "id": "22852cd9",
   "metadata": {},
   "outputs": [],
   "source": [
    "# what are the negative indexes and why are they used?\n",
    "# The negative index is used to remove any new lines spaces from the string \n",
    "# and allow the string to except the last character that is given as N[:-1]"
   ]
  },
  {
   "cell_type": "code",
   "execution_count": null,
   "id": "dd7cda56",
   "metadata": {},
   "outputs": [],
   "source": [
    "# Write a Python program to count occurrences of a substring in a string\n",
    "\n",
    "r = \"to calculate the lenght of a string:\"\n",
    "print(r.count(\"l\"))"
   ]
  },
  {
   "cell_type": "code",
   "execution_count": null,
   "id": "ea2e3f4f",
   "metadata": {},
   "outputs": [],
   "source": [
    "#Write a Python program to count the occurrences of each word in a given\n",
    "# sentence\n",
    "\n",
    "str1 = input(\"Enter the string\")\n",
    "str1 =str1.split()\n",
    "i =0 \n",
    "while i<len(str1):\n",
    "    count =0\n",
    "    for j in str1:\n",
    "        if str1[i]==j:\n",
    "            count =count + 1\n",
    "    print(str1[i],count)\n",
    "    i = i+1"
   ]
  },
  {
   "cell_type": "code",
   "execution_count": null,
   "id": "22ba62dc",
   "metadata": {},
   "outputs": [],
   "source": [
    "#Write a Python program to get a single string from two given strings,\n",
    "# separated by a space and swap the first two characters of each string.\n",
    "\n",
    "a = input(\"enter the string: \")\n",
    "b = input(\"Enter the string: \")\n",
    "print (a)\n",
    "print(b)\n",
    "c = b[:2]+a[2:]\n",
    "d = a[:2]+b[2:]\n",
    "print(c)\n",
    "print(d)"
   ]
  },
  {
   "cell_type": "code",
   "execution_count": null,
   "id": "d57f62e9",
   "metadata": {},
   "outputs": [],
   "source": [
    "#Write a Python program to add 'ing' at the end of a given string (length\n",
    "# should be at least 3). If the given string already ends with 'ing' then add 'ly'\n",
    "# instead if the string length of the given string is less than 3, leave it\n",
    "# unchanged.\n",
    "\n",
    "a = input(\"enter the string: \")\n",
    "b = len(a)\n",
    "if b>2:\n",
    "    if a[-3:]=='ing':\n",
    "        a+='ly'\n",
    "    else:\n",
    "        a+='ing'\n",
    "print(a)"
   ]
  },
  {
   "cell_type": "code",
   "execution_count": null,
   "id": "60dc1fe7",
   "metadata": {},
   "outputs": [],
   "source": [
    "#Write a Python program to find the first appearance of the substring 'not'\n",
    "# and 'poor' from a given string, if 'not' follows the 'poor', replace the whole\n",
    "# 'not'...'poor' substring with 'good'. Return the resulting string.\n",
    "\n",
    "str1 = input(\"enter the string: \")\n",
    "b =str1.find(\"not\")\n",
    "f =str1.find(\"poor\")\n",
    "if f>b:\n",
    "    str1 =str1.replace(str1[b:(f+4)],'good')\n",
    "    print(str1)\n",
    "else:\n",
    "    print(str1)"
   ]
  },
  {
   "cell_type": "code",
   "execution_count": 5,
   "id": "f65efe53",
   "metadata": {},
   "outputs": [
    {
     "name": "stdout",
     "output_type": "stream",
     "text": [
      "enter the string: w\n",
      "_____\n"
     ]
    }
   ],
   "source": [
    "#Write a Python program to get a string made of the first 2 and the last 2\n",
    "# chars from a given a string. If the string length is less than 2, return instead\n",
    "# of the empty string.\n",
    "\n",
    "a =input (\"enter the string: \")\n",
    "if len(a)<2:\n",
    "    print('_____')\n",
    "else:\n",
    "    groups = a[:2]+a[-2:]\n",
    "    print(groups)"
   ]
  },
  {
   "cell_type": "code",
   "execution_count": null,
   "id": "52bef348",
   "metadata": {},
   "outputs": [],
   "source": [
    "# Write a Python function that takes a list of words and returns the length\n",
    "# of the longest one.\n",
    "\n",
    "\n",
    "def longest_one(word_list):\n",
    "    word_len = []\n",
    "    for i in word_list:\n",
    "        word_len.append((len(i),(i)))\n",
    "    word_len.sort()\n",
    "    return word_len[-1] \n",
    "v1 = longest_one([\"rahul\", \"prajapati\",\"ruchit\",\"sid\"])\n",
    "print (\"The longest lenght string is:- \",v1)"
   ]
  },
  {
   "cell_type": "code",
   "execution_count": null,
   "id": "c5b4c660",
   "metadata": {},
   "outputs": [],
   "source": [
    "##  Write a Python function to reverses a string if its length is a multiple of 4\n",
    "\n",
    "def rev(a):\n",
    "    if len(a)%4 == 0:\n",
    "        print(a[-1::-1])\n",
    "         \n",
    "    else:\n",
    "        print(a)\n",
    "rev(\"rahul  prajapati\")"
   ]
  },
  {
   "cell_type": "code",
   "execution_count": null,
   "id": "279ab0a3",
   "metadata": {},
   "outputs": [],
   "source": [
    "# Write a Python function to insert a string in the middle of a string\n",
    "\n",
    "def insert_string(str1,str2):\n",
    "    return str1[:2] + str2 + str1[2:]\n",
    "print(insert_string(\"{()}\",\"python\"))"
   ]
  },
  {
   "cell_type": "code",
   "execution_count": null,
   "id": "a65cb3ed",
   "metadata": {},
   "outputs": [],
   "source": []
  }
 ],
 "metadata": {
  "kernelspec": {
   "display_name": "Python 3 (ipykernel)",
   "language": "python",
   "name": "python3"
  },
  "language_info": {
   "codemirror_mode": {
    "name": "ipython",
    "version": 3
   },
   "file_extension": ".py",
   "mimetype": "text/x-python",
   "name": "python",
   "nbconvert_exporter": "python",
   "pygments_lexer": "ipython3",
   "version": "3.9.12"
  }
 },
 "nbformat": 4,
 "nbformat_minor": 5
}
