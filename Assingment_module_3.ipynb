{
 "cells": [
  {
   "cell_type": "code",
   "execution_count": null,
   "id": "d0a44fd9",
   "metadata": {},
   "outputs": [],
   "source": [
    "# What is List? How will you reverse a list?\n",
    "\n",
    "##Lists are used to store multiple items in a single variable.\n",
    "\n",
    "# Lists are one of 4 built-in data types in Python used to \n",
    "# store collections of data, the other 3 are Tuple, Set, and \n",
    "# Dictionary, all with different qualities and usage.\n",
    "# Lists are created using square brackets:\n",
    "\n",
    "##--> how to reverse a list?\n",
    "\n",
    "var1 = [\"Rahul\",\"Tanmay\",\"chirag\",\"karan\",12,34]\n",
    "var1.reverse() ### \"reverse \" is mathod of list to reverse all element in ordered\n",
    "print(var1)"
   ]
  },
  {
   "cell_type": "code",
   "execution_count": null,
   "id": "7023c116",
   "metadata": {},
   "outputs": [],
   "source": [
    "# How will you remove last object from a list?\n",
    "## EX:- \n",
    "\n",
    "r1 = [12,65,\"ashok\",45.34,10]\n",
    "r1.pop() ## pop() is a list method it will remove last element from the list\n",
    "print(r1)      "
   ]
  },
  {
   "cell_type": "code",
   "execution_count": null,
   "id": "81d012c2",
   "metadata": {},
   "outputs": [],
   "source": [
    "###  Suppose list1 is [2, 33, 222, 14, and 25], what is list1 [-1]?\n",
    "\n",
    "list1 = [2,33,222,14,25]  \n",
    "\n",
    "##---> The list [-1] is a 25,because negative indexed starts with last element of the list and any another side"
   ]
  },
  {
   "cell_type": "code",
   "execution_count": null,
   "id": "ff82aabc",
   "metadata": {},
   "outputs": [],
   "source": [
    "##  Differentiate between append () and extend () methods?\n",
    "\n",
    "##-->  The extend() method adds all the element of an ITERABLE to the end of the list.\n",
    "## EX:- \n",
    "\n",
    "str1 =[1, 2, 3]\n",
    "str2 = \"rahul\"\n",
    "str1.extend(str2)\n",
    "print(str1)\n",
    "\n",
    "## The append() method add an ELEMENT to the end of the list.\n",
    "## EX:-\n",
    "\n",
    "st1 = [1,2,3]\n",
    "st2 = \"rahul\"\n",
    "st1.append(st2)\n",
    "print(st1)"
   ]
  },
  {
   "cell_type": "code",
   "execution_count": null,
   "id": "0a4cc3b5",
   "metadata": {},
   "outputs": [],
   "source": [
    "### Write a Python function to get the largest number, smallest num and sum\n",
    "# of all from a list.\n",
    " \n",
    "def find_num():\n",
    "    list1 = []\n",
    "    enter = int(input(\"Enter the number how many times you input the value:- \"))\n",
    "    for a in range(1,enter+1):\n",
    "        n = int(input(\"Enter the number \" + str(a) + \":- \"))\n",
    "        list1.append(n)\n",
    "    print(\"Your numbers list is :-\",list1)\n",
    "    sort = list1.sort()\n",
    "    \n",
    "    print(\"The largest number in list is:- \",list1[-1])\n",
    "    print(\"The smallest number in list is:- \",list1[0])\n",
    "    print(\"The sum of list elements is :- \",sum(list1))\n",
    "        \n",
    "        \n",
    "find_num()"
   ]
  },
  {
   "cell_type": "code",
   "execution_count": null,
   "id": "c57b3631",
   "metadata": {},
   "outputs": [],
   "source": [
    "#####  How will you compare two lists?\n",
    "\n",
    "\n",
    "a  = [12,34,54]\n",
    "b = [12,34,54]\n",
    "c = a == b\n",
    "\n",
    "print(c)"
   ]
  },
  {
   "cell_type": "code",
   "execution_count": null,
   "id": "04de8630",
   "metadata": {},
   "outputs": [],
   "source": [
    "### Write a Python program to count the number of strings where the string\n",
    "#  length is 2 or more and the first and last character are same from a given\n",
    "#  list of strings\n",
    "\n",
    "str1 =input(\"Enter the string:- \")\n",
    "\n",
    "if len(str1) >= 2:\n",
    "    if str1[0] == str1[-1]:\n",
    "        print(f\" The lenght of {str1} is {len(str1)}\")\n",
    "    else:\n",
    "        print(\"***** ******\")\n",
    "else:\n",
    "    print(\"***** *****\")\n"
   ]
  },
  {
   "cell_type": "code",
   "execution_count": null,
   "id": "3891e7be",
   "metadata": {},
   "outputs": [],
   "source": [
    "###  Write a Python program to remove duplicates from\n",
    "        \n",
    "names = []\n",
    "inp = int(input(\"How many times you enter the input:- \"))\n",
    "for i in range(inp):\n",
    "    n = int(input(\"Enter the value\"+str(i)+\":- \"))\n",
    "    names.append(n)\n",
    "    \n",
    "Set = set(names)\n",
    "\n",
    "print (\"Your list after remove the duplicates:- \",Set)\n",
    "    "
   ]
  },
  {
   "cell_type": "code",
   "execution_count": null,
   "id": "b4b66ec8",
   "metadata": {},
   "outputs": [],
   "source": [
    "### Write a Python program to check a list is empty or not.\n",
    "##--> \n",
    "\n",
    "List1 = []\n",
    "INPUT = int(input(\"How many element you enter for list:-\"))\n",
    "for i in range(INPUT):\n",
    "    n = input(\"Enter the value \"+ str(i)+ \":- \")\n",
    "    List1.append(n)\n",
    "if INPUT == 0 or len(List1)< 0 :\n",
    "    print(\"The list is empty\")\n",
    "    \n",
    "else:\n",
    "    print(\"Your list is :-\",List1)\n",
    "\n"
   ]
  },
  {
   "cell_type": "code",
   "execution_count": null,
   "id": "b9abec66",
   "metadata": {},
   "outputs": [],
   "source": [
    "###  Write a Python function that takes two lists and returns true if they have\n",
    "# at least one common member\n",
    "\n",
    "def common_member(str1,str2):\n",
    "    for i in str1:\n",
    "        if i in str2:\n",
    "            return True\n",
    "\n",
    "        else:\n",
    "            return False\n",
    "common_member(\"rahul\",\"rahul\")"
   ]
  },
  {
   "cell_type": "code",
   "execution_count": null,
   "id": "de988242",
   "metadata": {},
   "outputs": [],
   "source": [
    "###   Write a Python program to generate and print a list of first and last 5\n",
    "# elements where the values are square of numbers between 1 and 30.\n",
    "\n",
    "\n",
    "List = [2,3,4,5,8,9,3,6,12,65,4,32,2,45,5]\n",
    "List1 = []\n",
    "plus = []\n",
    "for i in List[:5]:\n",
    "    if (i**2) < 30 or (i%2==0) or (i% 3 == 0) or (i%4== 0) or  (i %5== 0) :\n",
    "        plus.append(i)\n",
    "        \n",
    "    else:\n",
    "        List1.append(i)\n",
    "        \n",
    "        \n",
    "for j in List[-1:-6:-1] or (i%2==0) or (i% 3 == 0) or (i%4== 0) or  (i %5== 0):\n",
    "    if (j**2) < 30:\n",
    "        plus.append(j)\n",
    "        \n",
    "    else:\n",
    "        List1.append(j)\n",
    "    \n",
    "        \n",
    "        \n",
    "print(plus)\n",
    "print(List1)\n",
    "        \n"
   ]
  },
  {
   "cell_type": "code",
   "execution_count": null,
   "id": "f80f4329",
   "metadata": {},
   "outputs": [],
   "source": [
    "##### Write a Python function that takes a list and returns a new list with unique\n",
    "# elements of the first list.\n",
    "  \n",
    "    \n",
    "List = [1,23,44,1,44,56,78,23,78,99]\n",
    "List1 = set(List)\n",
    "final_List = list(List1)\n",
    "print(final_List)"
   ]
  },
  {
   "cell_type": "code",
   "execution_count": null,
   "id": "388586fa",
   "metadata": {},
   "outputs": [],
   "source": [
    "### Write a Python program to convert a list of characters into a string.\n",
    "\n",
    "List1=['R','a','h','u','l']\n",
    "List2=''.join(List1)\n",
    "print(List2)"
   ]
  },
  {
   "cell_type": "code",
   "execution_count": null,
   "id": "8f3ec2aa",
   "metadata": {},
   "outputs": [],
   "source": [
    "###  Write a Python program to select an item randomly from a list.\n",
    "\n",
    "List1 = [12,34,87,45,67,62,37]\n",
    "List2 = [43,54,88,97,22,51]\n",
    "List_1 = set(List1)\n",
    "List_2 = set(List2)\n",
    "random_list = List_1.pop()\n",
    "random_list1 = List_2.pop()\n",
    "print(\"The random number from List1 is:- \",random_list)\n",
    "print(\"The random number from List2 is:- \",random_list1)\n"
   ]
  },
  {
   "cell_type": "code",
   "execution_count": null,
   "id": "808df4f1",
   "metadata": {},
   "outputs": [],
   "source": [
    "###  Write a Python program to find the second smallest number in a list.\n",
    "\n",
    "List1 = [12,45,23,54,87,99,11]\n",
    "List2 = List1.sort()\n",
    "print(\"The second smallest number in list is:-\",List1[1])"
   ]
  },
  {
   "cell_type": "code",
   "execution_count": null,
   "id": "30e9aee3",
   "metadata": {},
   "outputs": [],
   "source": [
    "###  Write a Python program to get unique values from a list\n",
    "\n",
    "list1 = [12,45,67,89,56,44,33]\n",
    "list2 = [45,99,76,55,44,67,44]\n",
    "list_1 = set(list1)\n",
    "list_2 = set(list2)\n",
    "uniq_list = list_1.difference(list_2)\n",
    "print(list(uniq_list))"
   ]
  },
  {
   "cell_type": "code",
   "execution_count": null,
   "id": "acc6673a",
   "metadata": {},
   "outputs": [],
   "source": [
    "#### Write a Python program to check whether a list contains a sub list\n",
    "\n",
    "list1 = [45,67,96,12,34,62]\n",
    "list2 = [12,96,34]\n",
    "list_1 = set(list1)\n",
    "list_2 = set(list2)\n",
    "check_list = list_2.issubset(list_1)## To check list1 contain a sub list.\n",
    "print(check_list)\n"
   ]
  },
  {
   "cell_type": "code",
   "execution_count": null,
   "id": "3380857d",
   "metadata": {},
   "outputs": [],
   "source": [
    "### Write a Python program to split a list into different variables.\n",
    "\n",
    "list1 = [12,54,23,19,45]\n",
    "list_1 = str(list1)\n",
    "\n",
    "list2 = list_1[1:-1].split(',')\n",
    "list_2 = list(map(int,list2))##  split a list in different veriable\n",
    "print(list_2)\n"
   ]
  },
  {
   "cell_type": "code",
   "execution_count": null,
   "id": "059f6255",
   "metadata": {},
   "outputs": [],
   "source": [
    "####  What is tuple? Difference between list and tuple.\n",
    "\n",
    "####   What is tuple?\n",
    "##-->  Tuple area used to store multiple item in a single variable.\n",
    "##   Tuple is one of 4 built in datatype in python used to store \n",
    "##   collention of data, The other 3 are is LIST ,DICTONARY , SET,\n",
    "##   Tuple is collention which is odered and imutable.\n",
    "##   Tuple are writen with round bracket --> ()\n",
    "\n",
    "###  Difference between list and tuple.\n",
    "\n",
    "##--> List is collention which is ordered and mutable but tuple collection which is \n",
    "##    ordered but not a mutable.\n",
    "## tuple writen with round brackets --> ()\n",
    "## And list writen with square bracket --> []\n",
    "### But tuple is fastest are list. \n"
   ]
  },
  {
   "cell_type": "code",
   "execution_count": null,
   "id": "46c27671",
   "metadata": {},
   "outputs": [],
   "source": [
    "###  Write a Python program to create a tuple with different data types.\n",
    "\n",
    "list1 = [\"rahul\", \"aniket\", \"ruchit\"]\n",
    "list_1 = str(list1)\n",
    "final_tuple =list_1.partition(\"aniket\")\n",
    "print(type(final_tuple))"
   ]
  },
  {
   "cell_type": "code",
   "execution_count": null,
   "id": "7276d6ea",
   "metadata": {},
   "outputs": [],
   "source": [
    "#### Write a Python program to create a tuple with numbers.\n",
    "\n",
    "list1 = [\"rahul\",\"karan\",\"chirag\",\"tanmay\",\"kalpesh\"]\n",
    "List_1 = tuple(enumerate(list1))\n",
    "print(List_1)"
   ]
  },
  {
   "cell_type": "code",
   "execution_count": null,
   "id": "ae020a81",
   "metadata": {},
   "outputs": [],
   "source": [
    "### Write a Python program to convert a tuple to a string.\n",
    "  \n",
    "    \n",
    "tuple1 = ('R','a','h','u','l ','prajapati')\n",
    "str1 = \"\".join(tuple1)\n",
    "print(str1)\n",
    "print(type(str1))\n"
   ]
  },
  {
   "cell_type": "code",
   "execution_count": null,
   "id": "acd155aa",
   "metadata": {},
   "outputs": [],
   "source": [
    "# Write a Python program to check whether an element exists with in a tuple.\n",
    "\n",
    "\n",
    "tuple1=(1,12,21,'python','a',23)\n",
    "print('python' in tuple1)\n"
   ]
  },
  {
   "cell_type": "code",
   "execution_count": null,
   "id": "5ca08685",
   "metadata": {},
   "outputs": [],
   "source": [
    "###  Write a Python program to find the length of a tuple.\n",
    "\n",
    "tuple1=(1,12,21,'python','a',23)\n",
    "print(\"The lenght of tuple is:- \",len(tuple1))"
   ]
  },
  {
   "cell_type": "code",
   "execution_count": null,
   "id": "c6bc82f4",
   "metadata": {},
   "outputs": [],
   "source": [
    "### Write a Python program to convert a list to a tuple.\n",
    "\n",
    "list1=[12,32,(12,43,34.3,'python',2),{23,43},12.3,'java',['a','b',23,3],23,45]\n",
    "tuple1=tuple(list1)\n",
    "print(list1)\n",
    "print(tuple1)"
   ]
  },
  {
   "cell_type": "code",
   "execution_count": null,
   "id": "abaf541c",
   "metadata": {},
   "outputs": [],
   "source": [
    "# Write a Python program to reverse a tuple.\n",
    "\n",
    "tuple1 = (12,45,76,96,45)\n",
    "print(tuple1[::-1]) # slicing\n",
    "list1=list(tuple1)\n",
    "list1.reverse()\n",
    "print(tuple(list1))\n"
   ]
  },
  {
   "cell_type": "code",
   "execution_count": null,
   "id": "3d7373fc",
   "metadata": {},
   "outputs": [],
   "source": [
    "### Write a Python program to replace last value of tuples in a list.\n",
    "list1 = [32,12,56,(5,6,7)]\n",
    "copy_list = list1.copy()\n",
    "list_1 = list(list1[-1])\n",
    "change = list_1[-1] = 8\n",
    "list2 = copy_list.pop(-1)\n",
    "final_list = copy_list.append(tuple(list_1))\n",
    "print(\"Before changing list:-\",list1)\n",
    "print(\"After changing list:- \",copy_list)\n"
   ]
  },
  {
   "cell_type": "code",
   "execution_count": null,
   "id": "85a5ca18",
   "metadata": {},
   "outputs": [],
   "source": [
    "###   Write a Python program to find the repeated items of a tuple.\n",
    "\n",
    "t1 = (12,25,55,12,\"rahul\",45,\"rahul\")\n",
    "t2 = []\n",
    "print(\"This value are repeated\") \n",
    "for i in t1:\n",
    "    if i in t2:\n",
    "   \n",
    "        print(i)\n",
    "        \n",
    "    else:\n",
    "        t2.append(i)\n",
    "        \n"
   ]
  },
  {
   "cell_type": "code",
   "execution_count": null,
   "id": "c80ecc18",
   "metadata": {},
   "outputs": [],
   "source": [
    "### Write a Python program to remove an empty tuple(s) from a list of tuples.\n",
    "\n",
    "t1 = ((12,23,54),(),\"rahul\",(),\"aniket\",())\n",
    "t2 = []\n",
    "for i in t1:\n",
    "    if len(i) < 1:\n",
    "        continue\n",
    "    else:\n",
    "        t2.append(i)\n",
    "t3 = tuple(t2)\n",
    "print(t3)"
   ]
  },
  {
   "cell_type": "code",
   "execution_count": null,
   "id": "d0459485",
   "metadata": {},
   "outputs": [],
   "source": [
    "###  Write a Python program to unzip a list of tuples into individual lists.\n",
    "\n",
    "t1 = ((\"rahul\",\"001\"),(\"ruchit\",\"002\"),(\"sunil\",\"003\"))\n",
    "unziped_list = list(zip(*t1))\n",
    "print(\"unziped_list = \",tuple(unziped_list))"
   ]
  },
  {
   "cell_type": "code",
   "execution_count": null,
   "id": "88bda143",
   "metadata": {},
   "outputs": [],
   "source": [
    "####  Write a Python program to convert a list of tuples into a dictionary.\n",
    "\n",
    "t1 = ((\"rahul\",1),(\"kamlesh\",2),(\"karan\",3))\n",
    "d1 =dict(t1)\n",
    "print(d1)"
   ]
  },
  {
   "cell_type": "code",
   "execution_count": null,
   "id": "808b90ef",
   "metadata": {},
   "outputs": [],
   "source": [
    "# How will you create a dictionary using tuples in python.\n",
    "\n",
    "\n",
    "t1 = (1,2,3)\n",
    "t2 = (\"R\")\n",
    "dict1 = dict.fromkeys(t1,t2)\n",
    "print(dict1)\n",
    "\n"
   ]
  },
  {
   "cell_type": "code",
   "execution_count": null,
   "id": "dd469d8d",
   "metadata": {},
   "outputs": [],
   "source": [
    "###  Write a Python script to sort (ascending and descending) a dictionary by value.\n",
    "\n",
    "dict1 = {\"India\":1 , \"Rusia\":0, \"china\":3, \"japan\": 2 , \"Africa\":4}\n",
    "dict_1 = sorted(dict1.items(),key= lambda item: item[1])\n",
    "print(dict_1)\n"
   ]
  },
  {
   "cell_type": "code",
   "execution_count": null,
   "id": "d0036772",
   "metadata": {},
   "outputs": [],
   "source": [
    "### ###  Write a Python script to sort (ascending and descending) a dictionary by value.\n",
    "\n",
    "dict1 = {\"India\":1 , \"Rusia\":0, \"china\":3, \"japan\": 2 , \"Africa\":4}\n",
    "sorted_values = sorted(dict1.values()) # Sort the values\n",
    "sorted_dict = {}\n",
    "\n",
    "for i in sorted_values:\n",
    "    for k in dict1.keys():\n",
    "        if dict1[k] == i:\n",
    "            sorted_dict[k] = dict1[k]\n",
    "            break\n",
    "print(\"In ascending ordered:- \",sorted_dict)\n",
    "sort = list(sorted_dict.items())\n",
    "reverse_list = sort.reverse()\n",
    "final_dict = dict(sort)\n",
    "print(\"In descending ordered:- \",final_dict)\n"
   ]
  },
  {
   "cell_type": "code",
   "execution_count": null,
   "id": "5cc1a8fc",
   "metadata": {},
   "outputs": [],
   "source": [
    "#### Write a Python script to concatenate following dictionaries to create a\n",
    "# new one.\n",
    "\n",
    "\n",
    "dict1={12:'python',123:'java'}\n",
    "dict2={'.net':123,'php':321}\n",
    "dict4={12:12,'python':'python','java':'java'}\n",
    "dict3={}\n",
    "for i in (dict1,dict2,dict4):\n",
    "    dict3.update(i)\n",
    "print(dict3)"
   ]
  },
  {
   "cell_type": "code",
   "execution_count": null,
   "id": "b9a1aaed",
   "metadata": {},
   "outputs": [],
   "source": [
    "###  Write a Python script to check if a given key already exists in a dictionary.\n",
    "\n",
    "dict1 =  {\"rahul\":44, \"shubham\":88, \"sunil\": 98, \"ruchit\":68,\"rahul\":12}\n",
    "My_dict = (input(\"Enter the key:- \"))\n",
    "if My_dict in dict1:\n",
    "    print(\"Yes, this key in exists in dictionary:- \",My_dict)\n",
    "    \n",
    "else:\n",
    "    print(\"This key has no exist in a dictionary \")"
   ]
  },
  {
   "cell_type": "code",
   "execution_count": null,
   "id": "d2c95bcc",
   "metadata": {},
   "outputs": [],
   "source": [
    "##### How Do You Traverse Through A Dictionary Object In Python?\n",
    "\n",
    "dict1={'a':12,'j':14,'p':55,'n':23,'v':43}\n",
    "for i in dict1:\n",
    "    print(i,dict1[i])"
   ]
  },
  {
   "cell_type": "code",
   "execution_count": null,
   "id": "61a60611",
   "metadata": {},
   "outputs": [],
   "source": [
    "##### How Do You Check The Presence Of A Key In A Dictionary?\n",
    "\n",
    "\n",
    "dict1 =  {\"R\": 1 , \"A\":2, \"H\":3, \"U\": 4, \"L\":5}\n",
    "My_key = input(\"Enter the key:- \")\n",
    "if My_key in dict1:\n",
    "    print(\"The key are presence:-\", (My_key,dict1[My_key]))\n",
    "else:\n",
    "    print(\"No, This key are not in dictionary \")"
   ]
  },
  {
   "cell_type": "code",
   "execution_count": null,
   "id": "45a57c13",
   "metadata": {},
   "outputs": [],
   "source": [
    "### Write a Python script to print a dictionary where the keys are numbers\n",
    "# between 1 and 15.\n",
    "\n",
    "d=dict()\n",
    "for i in range(1,14):\n",
    "    d[i]=i+2\n",
    "print(d)"
   ]
  },
  {
   "cell_type": "code",
   "execution_count": null,
   "id": "6a071b7f",
   "metadata": {},
   "outputs": [],
   "source": [
    "#### Write a Python script to merge two Python dictionaries\n",
    "\n",
    "dict1 = {\"ravi\":34, \"kishan\":66, \"rahul\":23}\n",
    "dict2 = {\"aniket\": 56, \"sunil\":99, \"sid\":33}\n",
    "# merge = list(dict1.items()) \n",
    "# merge1 = list(dict2.items())\n",
    "# merge_list = merge + merge1\n",
    "# print(dict(merge_list))\n",
    "\n",
    "#dict1.update(dict2)\n",
    "# print(dict1)\n"
   ]
  },
  {
   "cell_type": "code",
   "execution_count": null,
   "id": "c80d2a27",
   "metadata": {},
   "outputs": [],
   "source": [
    "### Write a Python program to map two lists into a dictionary\n",
    "\n",
    "list1 = [(\"mustang\"),(\"civic\"),(\"kia\")]\n",
    "list2 = [(1994),(2001),(2012)]\n",
    "x = dict(zip(list1,list2))\n",
    "print(x)"
   ]
  },
  {
   "cell_type": "code",
   "execution_count": null,
   "id": "59ca98b3",
   "metadata": {},
   "outputs": [],
   "source": [
    "### Write a Python program to map two lists into a dictionary\n",
    "\n",
    "list1 = [(\"mustang\"),(\"civic\"),(\"kia\")]\n",
    "list2 = [(1994),(2001),(2012)]\n",
    "x = dict(zip(list1,list2))\n",
    "print(x)\n",
    "# # Write a Python program to combine two dictionary adding values for common keys.\n",
    "#  d1 = {'a': 100, 'b': 200, 'c':300}\n",
    "#  d2 = {'a': 300, 'b': 200,’d’:400}\n",
    "# Sample output: Counter ({'a': 400, 'b': 400,’d’: 400, 'c': 300}).\n",
    "\n",
    "d1 = {'a': 100, 'b': 200, 'c':300}\n",
    "d2 = {'a': 300, 'b': 200, 'd':400}\n",
    "for i in d1:\n",
    "    if i in d2:\n",
    "        d1[i] = d1[i] + d2[i]\n",
    "    else:\n",
    "        d1.update(i)\n",
    "        "
   ]
  },
  {
   "cell_type": "code",
   "execution_count": null,
   "id": "c42aa5f6",
   "metadata": {},
   "outputs": [],
   "source": [
    "### Write a Python program to print all unique values in a dictionary.\n",
    "\n",
    "dict1 = {\"honda\":\"civic\",\"ford\":\"ecosport\",\"bmw\":\"x5\",\"volkswegan\":\"ecosport\"}\n",
    "x = set(dict1.values())\n",
    "print(x)"
   ]
  },
  {
   "cell_type": "code",
   "execution_count": null,
   "id": "971216ff",
   "metadata": {},
   "outputs": [],
   "source": [
    "###  Why Do You Use the Zip () Method in Python?\n",
    "\n",
    "# The zip() function returns a zip object, which is an iterator of tuples where the first item in each passed \n",
    "# iterator is paired together, and then the second item in each passed iterator are paired together etc.\n",
    "\n",
    "\n",
    "x = [1,2,3]\n",
    "y = [\"one\",\"two\",\"three\",\"four\"]\n",
    "r = list(zip(x,y))\n",
    "print(r)\n",
    "\n",
    "### four has not zip \n",
    "# If the passed iterators have different lengths, the iterator with the least items decides the length of the\n",
    "# new iterator."
   ]
  },
  {
   "cell_type": "code",
   "execution_count": null,
   "id": "ede33e13",
   "metadata": {},
   "outputs": [],
   "source": [
    "###  Write a Python program to create and display all combinations of letters,\n",
    "# selecting each letter from a different key in a dictionary.\n",
    "# Sample data: {'1': ['a','b'], '2': ['c','d']}\n",
    "# Expected Output:\n",
    "# ac ad bc bd\n",
    "\n",
    "dict1 = {1:['a','b'],2:['c','d']}\n",
    "x = list(dict1.values())\n",
    "\n",
    "for i in x [0]:\n",
    "    for r in x[1]:\n",
    "        print(i+r)\n"
   ]
  },
  {
   "cell_type": "code",
   "execution_count": null,
   "id": "ea8a068e",
   "metadata": {},
   "outputs": [],
   "source": [
    "###  Write a Python program to find the highest 3 values in a dictionary\n",
    "\n",
    "dict1 = {\"rahul\":34, \"anket\":57, \"ruchit\":87, \"pankaj\":55,\"sid\":99}\n",
    "x = list(dict1.values())\n",
    "y = x.sort()\n",
    "print(f\"The highest 3 values in dict is:- {x[-1]},{x[-2]},{x[-3]}\")"
   ]
  },
  {
   "cell_type": "code",
   "execution_count": null,
   "id": "7ebedccf",
   "metadata": {},
   "outputs": [],
   "source": [
    "###  Write a Python program to combine values in python list of dictionaries.\n",
    "# Sample data: [{'item': 'item1', 'amount': 400}, {'item': 'item2', 'amount':\n",
    "# 300},{'item': 'item1', 'amount': 750}]\n",
    "\n",
    "dict1=[{'item': 'item1', 'amount': 400}, {'item': 'item2', 'amount': 300}, {'item': 'item1', 'amount': 750}]    \n",
    "dict2={}\n",
    "for i in dict1:\n",
    "    if i['item'] not in dict2:\n",
    "        dict2[i['item']]=i['amount']\n",
    "#print(dict2)\n",
    "    else:\n",
    "        dict2[i['item']]+=i['amount']\n",
    "print(dict2)"
   ]
  },
  {
   "cell_type": "code",
   "execution_count": null,
   "id": "7e569fe7",
   "metadata": {},
   "outputs": [],
   "source": [
    "###  Write a Python program to create a dictionary from a string.\n",
    "# o Note: Track the count of the letters from the string. Sample string:\n",
    "# 'w3resource'\n",
    "# o Expected output: {'3': 1,’s’: 1, 'r': 2, 'u': 1, 'w': 1, 'c': 1, 'e': 2, 'o': 1}\n",
    "\n",
    "var = \"harish\"\n",
    "var1 = []\n",
    "var2 = []\n",
    "\n",
    "for i in var:\n",
    "    var1 += i\n",
    "\n",
    "for j in var1:\n",
    "    var2 += str(var1.count(j))\n",
    "\n",
    "new_dict = list(zip(var1,var2))\n",
    "print(dict(new_dict))\n"
   ]
  },
  {
   "cell_type": "code",
   "execution_count": null,
   "id": "20b11668",
   "metadata": {},
   "outputs": [],
   "source": [
    "### Write a Python function to calculate the factorial of a number (a non-\n",
    "# negative integer)\n",
    "\n",
    "def factorial(n):\n",
    "    if n>1 or n == 0:\n",
    "        return n * factorial(n -1)\n",
    "    else :\n",
    "        return n\n",
    "factorial(5)"
   ]
  },
  {
   "cell_type": "code",
   "execution_count": null,
   "id": "bbce17f8",
   "metadata": {},
   "outputs": [],
   "source": [
    "####  Write a Python function to check whether a number is in a given range\n",
    "\n",
    "\n",
    "def num(n):\n",
    "    if n in range(1,9):\n",
    "        return f\"{n} is in given range\"\n",
    "    else:\n",
    "        print('no')\n",
    "num(5)"
   ]
  },
  {
   "cell_type": "code",
   "execution_count": null,
   "id": "db62894f",
   "metadata": {},
   "outputs": [],
   "source": [
    "#### Write a Python function to check whether a number is perfect or not.\n",
    "\n",
    "n=int(input('enter the number:'))     # 6,28,4496,8128 :-perfect number\n",
    "sum = 0                               \n",
    "for x in range(1, n):\n",
    "    if n % x == 0:\n",
    "        sum += x\n",
    "# print(sum)\n",
    "if sum==n:\n",
    "    print( n,'is perfect number')\n",
    "else:\n",
    "    print(n,'not perfect number')"
   ]
  },
  {
   "cell_type": "code",
   "execution_count": null,
   "id": "42bdfe2c",
   "metadata": {},
   "outputs": [],
   "source": [
    "###   Write a Python function that checks whether a passed string is palindrome or not\n",
    "\n",
    "def check_str(str1):\n",
    "    var = []\n",
    "    var1 = []\n",
    "    for i in str1:\n",
    "        var.append(i)\n",
    "    for j in var[-1::-1]:\n",
    "        var1.append(j)\n",
    "    if var == var1:\n",
    "        print(f\"The string {str1} is palingdrome\")\n",
    "        \n",
    "    else:\n",
    "        print(\"The string is not palingdrome\")\n",
    "        \n",
    "check_str(\"oppo\")"
   ]
  },
  {
   "cell_type": "code",
   "execution_count": null,
   "id": "b06be130",
   "metadata": {},
   "outputs": [],
   "source": [
    "##   What is lambda function in python? What we call a function which is incomplete version of a function?\n",
    "\n",
    "\n",
    "# Lambda Function, also referred to as ‘Anonymous function’ is same as a regular python function but can be \n",
    "# defined without a name.\n",
    "# because they are handy and short.\n",
    "# single expression, can be multiple parameters.\n",
    "\n",
    "lamb = lambda x, y:x+y\n",
    "new = lamb(8, 9)\n",
    "print(new)"
   ]
  },
  {
   "cell_type": "code",
   "execution_count": null,
   "id": "0d3ceeb6",
   "metadata": {},
   "outputs": [],
   "source": [
    "# How Many Basic Types Of Functions Are Available In Python?\n",
    "# there are three basic type of function.\n",
    "# 1.built-in function :- print(),type(),len(),all(),any(),filter(),eval() and enumerate()\n",
    "# 2.user define function :- user have difine\n",
    "# 3.anonymous function :- lambda function"
   ]
  },
  {
   "cell_type": "code",
   "execution_count": null,
   "id": "c0bbdb45",
   "metadata": {},
   "outputs": [],
   "source": [
    "###  How can you pick a random item from a list or tuple?\n",
    "import random\n",
    "list1 = (12,23,54,65,23,54)\n",
    "random_number = random.randint(0,5)\n",
    "new = list1[random_number]\n",
    "print(new)"
   ]
  },
  {
   "cell_type": "code",
   "execution_count": null,
   "id": "15afb926",
   "metadata": {},
   "outputs": [],
   "source": [
    "### How can you pick a random item from a range?\n",
    "\n",
    "import random\n",
    "enter = int(input(\"Enter the any number for range:- \"))\n",
    "random_number = random.randint(0,enter)\n",
    "print(random_number)\n"
   ]
  },
  {
   "cell_type": "code",
   "execution_count": null,
   "id": "305a798b",
   "metadata": {},
   "outputs": [],
   "source": [
    "### How can you get a random number in python?\n",
    "\n",
    "# we can get random number from random.random is built in moduel to use for random number\n",
    "\n",
    "\n",
    "\n",
    "import random\n",
    "\n",
    "random_number = random.randint(0,99)\n",
    "print(random_number)\n"
   ]
  },
  {
   "cell_type": "code",
   "execution_count": null,
   "id": "600612f5",
   "metadata": {},
   "outputs": [],
   "source": [
    "### How will you set the starting value in generating random numbers?\n",
    "# we will set starting value for genrating random number than we use randint,\n",
    "# because randint takes to argument start and end.\n",
    "\n"
   ]
  },
  {
   "cell_type": "code",
   "execution_count": null,
   "id": "95ba8738",
   "metadata": {},
   "outputs": [],
   "source": [
    "### How will you randomizes the items of a list in place?\n",
    "import random\n",
    "list1 = [43,65,2,76,87,22,99]\n",
    "random_number = random.randrange(99)\n",
    "# list1.append(random_number)\n",
    "# print(list1)\n",
    "list1.insert(0,random_number)\n",
    "print(list1)"
   ]
  },
  {
   "cell_type": "code",
   "execution_count": null,
   "id": "cfc99881",
   "metadata": {},
   "outputs": [],
   "source": [
    "##### Write a Python program to read a random line from a file.\n",
    "import random\n",
    "\n",
    "f1 = open(\"rahul_assingment.txt\",\"r\")\n",
    "f2 = f1.readlines()\n",
    "lenght = len(f2)\n",
    "r1 = random.randint(0, lenght -1)\n",
    "print(f2[r1])\n",
    "\n",
    "f1.close()\n",
    "\n"
   ]
  },
  {
   "cell_type": "code",
   "execution_count": null,
   "id": "5ff81d4c",
   "metadata": {},
   "outputs": [],
   "source": [
    "####  Write a Python program to convert degree to radian\n",
    "\n",
    "pi=22/7\n",
    "radian = float(input(\"Input radians:- \"))\n",
    "degree = round(radian*(180/pi),2)\n",
    "print(degree)"
   ]
  },
  {
   "cell_type": "code",
   "execution_count": null,
   "id": "5e3e11f6",
   "metadata": {},
   "outputs": [],
   "source": [
    "####  Write a Python program to calculate the area of a trapezoid\n",
    "\n",
    "Base1 = float(input('Enter the First Base of a Trapezoid: '))\n",
    "Base2 = float(input('Enter the Second Base of a Trapezoid: '))\n",
    "\n",
    "Height= float(input('Enter the Height of a Trapezoid: '))\n",
    "\n",
    "area = 0.5 *(Base1 + Base2) * Height\n",
    "print(\"The Area of a trapezoid:-\",area)\n"
   ]
  },
  {
   "cell_type": "code",
   "execution_count": null,
   "id": "e9d1c8fa",
   "metadata": {},
   "outputs": [],
   "source": [
    "#### Write a Python program to calculate the area of a parallelogram\n",
    "\n",
    "base = float(input(\"enter the base of parallelogram:- \"))\n",
    "base1 = float(input(\"enter hieght of parallelogram:- \"))\n",
    "area = base*base1\n",
    "print(\"The area of parallelogram is:-\",area)"
   ]
  },
  {
   "cell_type": "code",
   "execution_count": null,
   "id": "4ac802d1",
   "metadata": {},
   "outputs": [],
   "source": [
    "#### Write a Python program to calculate surface volume and area of a cylinder\n",
    "\n",
    "redius = float(input(\"Ente the rediuse of cylinder:- \"))\n",
    "height = float(input(\"Ente the height of cylinder:- \"))\n",
    "pi = 22/7\n",
    "surface_area = round(2 * pi * pow(redius,2)*height,2)\n",
    "volume = round(pi* pow(redius,2)*height,2)\n",
    "print(\"The surface area of cylinder is:-\",surface_area)\n",
    "print(\"The vollume of cylinder is:-\",volume)"
   ]
  },
  {
   "cell_type": "code",
   "execution_count": null,
   "id": "7cb19b67",
   "metadata": {},
   "outputs": [],
   "source": [
    "####   Write a Python program to find the maximum and minimum numbers\n",
    "# from the specified decimal numbers.\n",
    "\n",
    "\n",
    "list1 = [12,34.4,54,83,87,66.44,69.54,12.33]\n",
    "list2 = list1.sort()\n",
    "new_list = list1.copy()\n",
    "for i in list1:\n",
    "    if len(str(i))> 2:\n",
    "        print(f\"The minimum decimal number is:- {i}\")\n",
    "        break\n",
    "new_list1 = new_list.reverse()\n",
    "for j in new_list:\n",
    "    if len(str(j))> 2:\n",
    "        print(f\"The maximum decimal number is:- {j}\")\n",
    "        break\n"
   ]
  },
  {
   "cell_type": "code",
   "execution_count": null,
   "id": "bf0373ad",
   "metadata": {},
   "outputs": [],
   "source": []
  }
 ],
 "metadata": {
  "kernelspec": {
   "display_name": "Python 3 (ipykernel)",
   "language": "python",
   "name": "python3"
  },
  "language_info": {
   "codemirror_mode": {
    "name": "ipython",
    "version": 3
   },
   "file_extension": ".py",
   "mimetype": "text/x-python",
   "name": "python",
   "nbconvert_exporter": "python",
   "pygments_lexer": "ipython3",
   "version": "3.9.12"
  }
 },
 "nbformat": 4,
 "nbformat_minor": 5
}
