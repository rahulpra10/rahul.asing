{
 "cells": [
  {
   "cell_type": "code",
   "execution_count": null,
   "id": "d0a44fd9",
   "metadata": {},
   "outputs": [],
   "source": [
    "# What is List? How will you reverse a list?\n",
    "\n",
    "##Lists are used to store multiple items in a single variable.\n",
    "\n",
    "# Lists are one of 4 built-in data types in Python used to \n",
    "# store collections of data, the other 3 are Tuple, Set, and \n",
    "# Dictionary, all with different qualities and usage.\n",
    "# Lists are created using square brackets:\n",
    "\n",
    "##--> how to reverse a list?\n",
    "\n",
    "var1 = [\"Rahul\",\"Tanmay\",\"chirag\",\"karan\",12,34]\n",
    "var1.reverse() ### \"reverse \" is mathod of list to reverse all element in ordered\n",
    "print(var1)"
   ]
  },
  {
   "cell_type": "code",
   "execution_count": null,
   "id": "7023c116",
   "metadata": {},
   "outputs": [],
   "source": [
    "# How will you remove last object from a list?\n",
    "## EX:- \n",
    "\n",
    "r1 = [12,65,\"ashok\",45.34,10]\n",
    "r1.pop() ## pop() is a list method it will remove last element from the list\n",
    "print(r1)      "
   ]
  },
  {
   "cell_type": "code",
   "execution_count": null,
   "id": "81d012c2",
   "metadata": {},
   "outputs": [],
   "source": [
    "###  Suppose list1 is [2, 33, 222, 14, and 25], what is list1 [-1]?\n",
    "\n",
    "list1 = [2,33,222,14,25]  \n",
    "\n",
    "##---> The list [-1] is a 25,because negative indexed starts with last element of the list and any another side"
   ]
  },
  {
   "cell_type": "code",
   "execution_count": null,
   "id": "ff82aabc",
   "metadata": {},
   "outputs": [],
   "source": [
    "##  Differentiate between append () and extend () methods?\n",
    "\n",
    "##-->  The extend() method adds all the element of an ITERABLE to the end of the list.\n",
    "## EX:- \n",
    "\n",
    "str1 =[1, 2, 3]\n",
    "str2 = \"rahul\"\n",
    "str1.extend(str2)\n",
    "print(str1)\n",
    "\n",
    "## The append() method add an ELEMENT to the end of the list.\n",
    "## EX:-\n",
    "\n",
    "st1 = [1,2,3]\n",
    "st2 = \"rahul\"\n",
    "st1.append(st2)\n",
    "print(st1)"
   ]
  },
  {
   "cell_type": "code",
   "execution_count": null,
   "id": "0a4cc3b5",
   "metadata": {},
   "outputs": [],
   "source": [
    "### Write a Python function to get the largest number, smallest num and sum\n",
    "# of all from a list.\n",
    " \n",
    "def find_num():\n",
    "    list1 = []\n",
    "    enter = int(input(\"Enter the number how many times you input the value:- \"))\n",
    "    for a in range(1,enter+1):\n",
    "        n = int(input(\"Enter the number \" + str(a) + \":- \"))\n",
    "        list1.append(n)\n",
    "    print(\"Your numbers list is :-\",list1)\n",
    "    sort = list1.sort()\n",
    "    \n",
    "    print(\"The largest number in list is:- \",list1[-1])\n",
    "    print(\"The smallest number in list is:- \",list1[0])\n",
    "    print(\"The sum of list elements is :- \",sum(list1))\n",
    "        \n",
    "        \n",
    "find_num()"
   ]
  },
  {
   "cell_type": "code",
   "execution_count": null,
   "id": "c57b3631",
   "metadata": {},
   "outputs": [],
   "source": [
    "#####  How will you compare two lists?\n",
    "\n",
    "\n",
    "a  = [12,34,54]\n",
    "b = [12,34,54]\n",
    "c = a == b\n",
    "\n",
    "print(c)"
   ]
  },
  {
   "cell_type": "code",
   "execution_count": null,
   "id": "04de8630",
   "metadata": {},
   "outputs": [],
   "source": [
    "### Write a Python program to count the number of strings where the string\n",
    "#  length is 2 or more and the first and last character are same from a given\n",
    "#  list of strings\n",
    "\n",
    "str1 =input(\"Enter the string:- \")\n",
    "\n",
    "if len(str1) >= 2:\n",
    "    if str1[0] == str1[-1]:\n",
    "        print(f\" The lenght of {str1} is {len(str1)}\")\n",
    "    else:\n",
    "        print(\"***** ******\")\n",
    "else:\n",
    "    print(\"***** *****\")\n"
   ]
  },
  {
   "cell_type": "code",
   "execution_count": null,
   "id": "3891e7be",
   "metadata": {},
   "outputs": [],
   "source": [
    "###  Write a Python program to remove duplicates from\n",
    "        \n",
    "names = []\n",
    "inp = int(input(\"How many times you enter the input:- \"))\n",
    "for i in range(inp):\n",
    "    n = int(input(\"Enter the value\"+str(i)+\":- \"))\n",
    "    names.append(n)\n",
    "    \n",
    "Set = set(names)\n",
    "\n",
    "print (\"Your list after remove the duplicates:- \",Set)\n",
    "    "
   ]
  },
  {
   "cell_type": "code",
   "execution_count": null,
   "id": "b4b66ec8",
   "metadata": {},
   "outputs": [],
   "source": [
    "### Write a Python program to check a list is empty or not.\n",
    "##--> \n",
    "\n",
    "List1 = []\n",
    "INPUT = int(input(\"How many element you enter for list:-\"))\n",
    "for i in range(INPUT):\n",
    "    n = input(\"Enter the value \"+ str(i)+ \":- \")\n",
    "    List1.append(n)\n",
    "if INPUT == 0 or len(List1)< 0 :\n",
    "    print(\"The list is empty\")\n",
    "    \n",
    "else:\n",
    "    print(\"Your list is :-\",List1)\n",
    "\n"
   ]
  },
  {
   "cell_type": "code",
   "execution_count": null,
   "id": "b9abec66",
   "metadata": {},
   "outputs": [],
   "source": [
    "###  Write a Python function that takes two lists and returns true if they have\n",
    "# at least one common member\n",
    "\n",
    "def common_member(str1,str2):\n",
    "    for i in str1:\n",
    "        if i in str2:\n",
    "            return True\n",
    "\n",
    "        else:\n",
    "            return False\n",
    "common_member(\"rahul\",\"rahul\")"
   ]
  },
  {
   "cell_type": "code",
   "execution_count": null,
   "id": "de988242",
   "metadata": {},
   "outputs": [],
   "source": [
    "###   Write a Python program to generate and print a list of first and last 5\n",
    "# elements where the values are square of numbers between 1 and 30.\n",
    "\n",
    "\n",
    "List = [2,3,4,5,8,9,3,6,12,65,4,32,2,45,5]\n",
    "List1 = []\n",
    "plus = []\n",
    "for i in List[:5]:\n",
    "    if (i**2) < 30 or (i%2==0) or (i% 3 == 0) or (i%4== 0) or  (i %5== 0) :\n",
    "        plus.append(i)\n",
    "        \n",
    "    else:\n",
    "        List1.append(i)\n",
    "        \n",
    "        \n",
    "for j in List[-1:-6:-1] or (i%2==0) or (i% 3 == 0) or (i%4== 0) or  (i %5== 0):\n",
    "    if (j**2) < 30:\n",
    "        plus.append(j)\n",
    "        \n",
    "    else:\n",
    "        List1.append(j)\n",
    "    \n",
    "        \n",
    "        \n",
    "print(plus)\n",
    "print(List1)\n",
    "        \n"
   ]
  },
  {
   "cell_type": "code",
   "execution_count": null,
   "id": "f80f4329",
   "metadata": {},
   "outputs": [],
   "source": [
    "##### Write a Python function that takes a list and returns a new list with unique\n",
    "# elements of the first list.\n",
    "  \n",
    "    \n",
    "List = [1,23,44,1,44,56,78,23,78,99]\n",
    "List1 = set(List)\n",
    "final_List = list(List1)\n",
    "print(final_List)"
   ]
  },
  {
   "cell_type": "code",
   "execution_count": null,
   "id": "388586fa",
   "metadata": {},
   "outputs": [],
   "source": [
    "### Write a Python program to convert a list of characters into a string.\n",
    "\n",
    "List1=['R','a','h','u','l']\n",
    "List2=''.join(List1)\n",
    "print(List2)"
   ]
  },
  {
   "cell_type": "code",
   "execution_count": null,
   "id": "8f3ec2aa",
   "metadata": {},
   "outputs": [],
   "source": [
    "###  Write a Python program to select an item randomly from a list.\n",
    "\n",
    "List1 = [12,34,87,45,67,62,37]\n",
    "List2 = [43,54,88,97,22,51]\n",
    "List_1 = set(List1)\n",
    "List_2 = set(List2)\n",
    "random_list = List_1.pop()\n",
    "random_list1 = List_2.pop()\n",
    "print(\"The random number from List1 is:- \",random_list)\n",
    "print(\"The random number from List2 is:- \",random_list1)\n"
   ]
  },
  {
   "cell_type": "code",
   "execution_count": null,
   "id": "808df4f1",
   "metadata": {},
   "outputs": [],
   "source": [
    "###  Write a Python program to find the second smallest number in a list.\n",
    "\n",
    "List1 = [12,45,23,54,87,99,11]\n",
    "List2 = List1.sort()\n",
    "print(\"The second smallest number in list is:-\",List1[1])"
   ]
  },
  {
   "cell_type": "code",
   "execution_count": null,
   "id": "30e9aee3",
   "metadata": {},
   "outputs": [],
   "source": [
    "###  Write a Python program to get unique values from a list\n",
    "\n",
    "list1 = [12,45,67,89,56,44,33]\n",
    "list2 = [45,99,76,55,44,67,44]\n",
    "list_1 = set(list1)\n",
    "list_2 = set(list2)\n",
    "uniq_list = list_1.difference(list_2)\n",
    "print(list(uniq_list))"
   ]
  },
  {
   "cell_type": "code",
   "execution_count": null,
   "id": "acc6673a",
   "metadata": {},
   "outputs": [],
   "source": [
    "#### Write a Python program to check whether a list contains a sub list\n",
    "\n",
    "list1 = [45,67,96,12,34,62]\n",
    "list2 = [12,96,34]\n",
    "list_1 = set(list1)\n",
    "list_2 = set(list2)\n",
    "check_list = list_2.issubset(list_1)## To check list1 contain a sub list.\n",
    "print(check_list)\n"
   ]
  },
  {
   "cell_type": "code",
   "execution_count": null,
   "id": "3380857d",
   "metadata": {},
   "outputs": [],
   "source": [
    "### Write a Python program to split a list into different variables.\n",
    "\n",
    "list1 = [12,54,23,19,45]\n",
    "list_1 = str(list1)\n",
    "\n",
    "list2 = list_1[1:-1].split(',')\n",
    "list_2 = list(map(int,list2))##  split a list in different veriable\n",
    "print(list_2)\n"
   ]
  },
  {
   "cell_type": "code",
   "execution_count": null,
   "id": "059f6255",
   "metadata": {},
   "outputs": [],
   "source": [
    "####  What is tuple? Difference between list and tuple.\n",
    "\n",
    "####   What is tuple?\n",
    "##-->  Tuple area used to store multiple item in a single variable.\n",
    "##   Tuple is one of 4 built in datatype in python used to store \n",
    "##   collention of data, The other 3 are is LIST ,DICTONARY , SET,\n",
    "##   Tuple is collention which is odered and imutable.\n",
    "##   Tuple are writen with round bracket --> ()\n",
    "\n",
    "###  Difference between list and tuple.\n",
    "\n",
    "##--> List is collention which is ordered and mutable but tuple collection which is \n",
    "##    ordered but not a mutable.\n",
    "## tuple writen with round brackets --> ()\n",
    "## And list writen with square bracket --> []\n",
    "### But tuple is fastest are list. \n"
   ]
  },
  {
   "cell_type": "code",
   "execution_count": null,
   "id": "46c27671",
   "metadata": {},
   "outputs": [],
   "source": [
    "###  Write a Python program to create a tuple with different data types.\n",
    "\n",
    "list1 = [\"rahul\", \"aniket\", \"ruchit\"]\n",
    "list_1 = str(list1)\n",
    "final_tuple =list_1.partition(\"aniket\")\n",
    "print(type(final_tuple))"
   ]
  },
  {
   "cell_type": "code",
   "execution_count": null,
   "id": "7276d6ea",
   "metadata": {},
   "outputs": [],
   "source": [
    "#### Write a Python program to create a tuple with numbers.\n",
    "\n",
    "list1 = [\"rahul\",\"karan\",\"chirag\",\"tanmay\",\"kalpesh\"]\n",
    "List_1 = tuple(enumerate(list1))\n",
    "print(List_1)"
   ]
  },
  {
   "cell_type": "code",
   "execution_count": null,
   "id": "ae020a81",
   "metadata": {},
   "outputs": [],
   "source": [
    "### Write a Python program to convert a tuple to a string.\n",
    "  \n",
    "    \n",
    "tuple1 = ('R','a','h','u','l ','prajapati')\n",
    "str1 = \"\".join(tuple1)\n",
    "print(str1)\n",
    "print(type(str1))\n"
   ]
  },
  {
   "cell_type": "code",
   "execution_count": null,
   "id": "acd155aa",
   "metadata": {},
   "outputs": [],
   "source": [
    "# Write a Python program to check whether an element exists with in a tuple.\n",
    "\n",
    "\n",
    "tuple1=(1,12,21,'python','a',23)\n",
    "print('python' in tuple1)\n"
   ]
  },
  {
   "cell_type": "code",
   "execution_count": null,
   "id": "5ca08685",
   "metadata": {},
   "outputs": [],
   "source": [
    "###  Write a Python program to find the length of a tuple.\n",
    "\n",
    "tuple1=(1,12,21,'python','a',23)\n",
    "print(\"The lenght of tuple is:- \",len(tuple1))"
   ]
  },
  {
   "cell_type": "code",
   "execution_count": null,
   "id": "c6bc82f4",
   "metadata": {},
   "outputs": [],
   "source": [
    "### Write a Python program to convert a list to a tuple.\n",
    "\n",
    "list1=[12,32,(12,43,34.3,'python',2),{23,43},12.3,'java',['a','b',23,3],23,45]\n",
    "tuple1=tuple(list1)\n",
    "print(list1)\n",
    "print(tuple1)"
   ]
  },
  {
   "cell_type": "code",
   "execution_count": null,
   "id": "abaf541c",
   "metadata": {},
   "outputs": [],
   "source": [
    "# Write a Python program to reverse a tuple.\n",
    "\n",
    "tuple1 = (12,45,76,96,45)\n",
    "print(tuple1[::-1]) # slicing\n",
    "list1=list(tuple1)\n",
    "list1.reverse()\n",
    "print(tuple(list1))\n"
   ]
  },
  {
   "cell_type": "code",
   "execution_count": null,
   "id": "3d7373fc",
   "metadata": {},
   "outputs": [],
   "source": [
    "### Write a Python program to replace last value of tuples in a list.\n",
    "list1 = [32,12,56,(5,6,7)]\n",
    "copy_list = list1.copy()\n",
    "list_1 = list(list1[-1])\n",
    "change = list_1[-1] = 8\n",
    "list2 = copy_list.pop(-1)\n",
    "final_list = copy_list.append(tuple(list_1))\n",
    "print(\"Before changing list:-\",list1)\n",
    "print(\"After changing list:- \",copy_list)\n"
   ]
  },
  {
   "cell_type": "code",
   "execution_count": null,
   "id": "85a5ca18",
   "metadata": {},
   "outputs": [],
   "source": [
    "###   Write a Python program to find the repeated items of a tuple.\n",
    "\n",
    "t1 = (12,25,55,12,\"rahul\",45,\"rahul\")\n",
    "t2 = []\n",
    "print(\"This value are repeated\") \n",
    "for i in t1:\n",
    "    if i in t2:\n",
    "   \n",
    "        print(i)\n",
    "        \n",
    "    else:\n",
    "        t2.append(i)\n",
    "        \n"
   ]
  },
  {
   "cell_type": "code",
   "execution_count": null,
   "id": "c80ecc18",
   "metadata": {},
   "outputs": [],
   "source": [
    "### Write a Python program to remove an empty tuple(s) from a list of tuples.\n",
    "\n",
    "t1 = ((12,23,54),(),\"rahul\",(),\"aniket\",())\n",
    "t2 = []\n",
    "for i in t1:\n",
    "    if len(i) < 1:\n",
    "        continue\n",
    "    else:\n",
    "        t2.append(i)\n",
    "t3 = tuple(t2)\n",
    "print(t3)"
   ]
  },
  {
   "cell_type": "code",
   "execution_count": null,
   "id": "d0459485",
   "metadata": {},
   "outputs": [],
   "source": [
    "###  Write a Python program to unzip a list of tuples into individual lists.\n",
    "\n",
    "t1 = ((\"rahul\",\"001\"),(\"ruchit\",\"002\"),(\"sunil\",\"003\"))\n",
    "unziped_list = list(zip(*t1))\n",
    "print(\"unziped_list = \",tuple(unziped_list))"
   ]
  },
  {
   "cell_type": "code",
   "execution_count": null,
   "id": "88bda143",
   "metadata": {},
   "outputs": [],
   "source": [
    "####  Write a Python program to convert a list of tuples into a dictionary.\n",
    "\n",
    "t1 = ((\"rahul\",1),(\"kamlesh\",2),(\"karan\",3))\n",
    "d1 =dict(t1)\n",
    "print(d1)"
   ]
  },
  {
   "cell_type": "code",
   "execution_count": null,
   "id": "808b90ef",
   "metadata": {},
   "outputs": [],
   "source": [
    "# How will you create a dictionary using tuples in python.\n",
    "\n",
    "\n",
    "t1 = (1,2,3)\n",
    "t2 = (\"R\")\n",
    "dict1 = dict.fromkeys(t1,t2)\n",
    "print(dict1)\n",
    "\n"
   ]
  },
  {
   "cell_type": "code",
   "execution_count": null,
   "id": "dd469d8d",
   "metadata": {},
   "outputs": [],
   "source": [
    "###  Write a Python script to sort (ascending and descending) a dictionary by value.\n",
    "\n",
    "dict1 = {\"India\":1 , \"Rusia\":0, \"china\":3, \"japan\": 2 , \"Africa\":4}\n",
    "dict_1 = sorted(dict1.items(),key= lambda item: item[1])\n",
    "print(dict_1)\n"
   ]
  },
  {
   "cell_type": "code",
   "execution_count": null,
   "id": "d0036772",
   "metadata": {},
   "outputs": [],
   "source": [
    "### ###  Write a Python script to sort (ascending and descending) a dictionary by value.\n",
    "\n",
    "dict1 = {\"India\":1 , \"Rusia\":0, \"china\":3, \"japan\": 2 , \"Africa\":4}\n",
    "sorted_values = sorted(dict1.values()) # Sort the values\n",
    "sorted_dict = {}\n",
    "\n",
    "for i in sorted_values:\n",
    "    for k in dict1.keys():\n",
    "        if dict1[k] == i:\n",
    "            sorted_dict[k] = dict1[k]\n",
    "            break\n",
    "print(\"In ascending ordered:- \",sorted_dict)\n",
    "sort = list(sorted_dict.items())\n",
    "reverse_list = sort.reverse()\n",
    "final_dict = dict(sort)\n",
    "print(\"In descending ordered:- \",final_dict)\n"
   ]
  },
  {
   "cell_type": "code",
   "execution_count": null,
   "id": "5cc1a8fc",
   "metadata": {},
   "outputs": [],
   "source": [
    "#### Write a Python script to concatenate following dictionaries to create a\n",
    "# new one.\n",
    "\n",
    "\n",
    "dict1={12:'python',123:'java'}\n",
    "dict2={'.net':123,'php':321}\n",
    "dict4={12:12,'python':'python','java':'java'}\n",
    "dict3={}\n",
    "for i in (dict1,dict2,dict4):\n",
    "    dict3.update(i)\n",
    "print(dict3)"
   ]
  },
  {
   "cell_type": "code",
   "execution_count": null,
   "id": "b9a1aaed",
   "metadata": {},
   "outputs": [],
   "source": [
    "###  Write a Python script to check if a given key already exists in a dictionary.\n",
    "\n",
    "dict1 =  {\"rahul\":44, \"shubham\":88, \"sunil\": 98, \"ruchit\":68,\"rahul\":12}\n",
    "My_dict = (input(\"Enter the key:- \"))\n",
    "if My_dict in dict1:\n",
    "    print(\"Yes, this key in exists in dictionary:- \",My_dict)\n",
    "    \n",
    "else:\n",
    "    print(\"This key has no exist in a dictionary \")"
   ]
  },
  {
   "cell_type": "code",
   "execution_count": null,
   "id": "d2c95bcc",
   "metadata": {},
   "outputs": [],
   "source": [
    "##### How Do You Traverse Through A Dictionary Object In Python?\n",
    "\n",
    "dict1={'a':12,'j':14,'p':55,'n':23,'v':43}\n",
    "for i in dict1:\n",
    "    print(i,dict1[i])"
   ]
  },
  {
   "cell_type": "code",
   "execution_count": 4,
   "id": "61a60611",
   "metadata": {},
   "outputs": [
    {
     "name": "stdout",
     "output_type": "stream",
     "text": [
      "Enter the key:- R\n",
      "The key are presence:- ('R', 1)\n"
     ]
    }
   ],
   "source": [
    "##### How Do You Check The Presence Of A Key In A Dictionary?\n",
    "\n",
    "\n",
    "dict1 =  {\"R\": 1 , \"A\":2, \"H\":3, \"U\": 4, \"L\":5}\n",
    "My_key = input(\"Enter the key:- \")\n",
    "if My_key in dict1:\n",
    "    print(\"The key are presence:-\", (My_key,dict1[My_key]))\n",
    "else:\n",
    "    print(\"No, This key are not in dictionary \")"
   ]
  },
  {
   "cell_type": "code",
   "execution_count": 7,
   "id": "45a57c13",
   "metadata": {},
   "outputs": [
    {
     "name": "stdout",
     "output_type": "stream",
     "text": [
      "{1: 3, 2: 4, 3: 5, 4: 6, 5: 7, 6: 8, 7: 9, 8: 10, 9: 11, 10: 12, 11: 13, 12: 14, 13: 15}\n"
     ]
    }
   ],
   "source": [
    "### Write a Python script to print a dictionary where the keys are numbers\n",
    "# between 1 and 15.\n",
    "\n",
    "d=dict()\n",
    "for i in range(1,14):\n",
    "    d[i]=i+2\n",
    "print(d)"
   ]
  },
  {
   "cell_type": "code",
   "execution_count": null,
   "id": "6a071b7f",
   "metadata": {},
   "outputs": [],
   "source": []
  }
 ],
 "metadata": {
  "kernelspec": {
   "display_name": "Python 3 (ipykernel)",
   "language": "python",
   "name": "python3"
  },
  "language_info": {
   "codemirror_mode": {
    "name": "ipython",
    "version": 3
   },
   "file_extension": ".py",
   "mimetype": "text/x-python",
   "name": "python",
   "nbconvert_exporter": "python",
   "pygments_lexer": "ipython3",
   "version": "3.9.12"
  }
 },
 "nbformat": 4,
 "nbformat_minor": 5
}
