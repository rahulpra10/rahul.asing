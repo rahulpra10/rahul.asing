{
 "cells": [
  {
   "cell_type": "code",
   "execution_count": null,
   "id": "38b139c3",
   "metadata": {},
   "outputs": [],
   "source": [
    "###  What is File function in python? What is keywords to create and write file.\n",
    "\n",
    "###Python has a built-in open() function to open a file. This function returns \n",
    "# a file object, also called a handle, as it is used to read or modify the file \n",
    "# accordingly. We can specify the mode while opening a file.\n",
    "\n",
    "\n",
    "## First, open the text file for writing (or append) using the open() function,\n",
    "# for write we can use \"w\" method,\n",
    "# write to the text file using the write() or writelines() method,\n",
    "# close the file using the close() method.\n"
   ]
  },
  {
   "cell_type": "code",
   "execution_count": null,
   "id": "d53333cb",
   "metadata": {},
   "outputs": [],
   "source": [
    "#### Write a Python program to read an entire text file.\n",
    "\n",
    "my_file = open(r\"/home/jack/rahul_file(handling)./rahul_file.txt\",\"r\")\n",
    "x = my_file.read()\n",
    "print(x)"
   ]
  },
  {
   "cell_type": "code",
   "execution_count": null,
   "id": "a2873425",
   "metadata": {},
   "outputs": [],
   "source": [
    "###  Write a Python program to append text to a file and display the text.\n",
    "\n",
    "my_file = open(\"/home/jack/rahul_file(handling)./rahul_file.txt\",\"a+\")\n",
    "single_line = input(\"Enter a single line:- \")\n",
    "my_file.write(single_line)\n",
    "my_file.seek(0)\n",
    "s = my_file.read()\n",
    "print(s)\n",
    "my_file.close()\n"
   ]
  },
  {
   "cell_type": "code",
   "execution_count": null,
   "id": "b73a2ea7",
   "metadata": {},
   "outputs": [],
   "source": [
    "###  Write a Python program to read first n lines of a file.\n",
    "\n",
    "my_file = open(\"/home/jack/rahul_file(handling)./rahul_file.txt\",\"r\")\n",
    "my_file.seek(0)\n",
    "s = my_file.readline()\n",
    "print(s)\n",
    "my_file.close()\n",
    "\n"
   ]
  },
  {
   "cell_type": "code",
   "execution_count": null,
   "id": "2b18331d",
   "metadata": {},
   "outputs": [],
   "source": [
    "###  Write a Python program to read last n lines of a file.\n",
    " \n",
    "my_file = open(\"/home/jack/rahul_file(handling)./rahul_file.txt\",\"r\")\n",
    "my_file.seek(0)\n",
    "s = my_file.readlines()\n",
    "print(s[-1])\n",
    "my_file.close()\n"
   ]
  },
  {
   "cell_type": "code",
   "execution_count": null,
   "id": "1f4bc15b",
   "metadata": {},
   "outputs": [],
   "source": [
    "### Write a Python program to read a file line by line and store it into a list\n",
    "file = open(\"/home/jack/rahul_file(handling)./rahul_file.txt\",\"r+\")\n",
    "file.seek(0)\n",
    "list1 = []\n",
    "s = file.read()\n",
    "list1.append(s)\n",
    "print(list1)\n",
    "\n",
    "file.close()"
   ]
  },
  {
   "cell_type": "code",
   "execution_count": null,
   "id": "7e20a40f",
   "metadata": {},
   "outputs": [],
   "source": [
    "#### Write a Python program to read a file line by line store it into a variable.\n",
    "\n",
    "file = open(\"/home/jack/rahul_file(handling)./rahul_file.txt\",\"r+\")\n",
    "file.seek(0)\n",
    "var1 = \"\"\n",
    "while file:\n",
    "    var1 = file.readline()\n",
    "    print(var1,end =\"\")\n",
    "file.close()"
   ]
  },
  {
   "cell_type": "code",
   "execution_count": null,
   "id": "96817afb",
   "metadata": {},
   "outputs": [],
   "source": [
    "####  Write a python program to find the longest words.\n",
    "\n",
    "f1=open('/home/jack/rahul_file(handling)./rahul_file.txt','r')\n",
    "s = f1.read()\n",
    "x = s.split()\n",
    "Max = 0\n",
    "for i in x:\n",
    "    if len(i) > Max:\n",
    "        Max = len(i)\n",
    "        max_word = i\n",
    "print(\"The max word in file is:-\",max_word)\n",
    "f1.close()"
   ]
  },
  {
   "cell_type": "code",
   "execution_count": null,
   "id": "834ecc1f",
   "metadata": {},
   "outputs": [],
   "source": [
    "###   Write a Python program to count the number of lines in a text file.\n",
    "\n",
    "f1=open('/home/jack/rahul_file(handling)./rahul_file.txt','r')\n",
    "s  = (f1.readlines())\n",
    "print(s)\n",
    "f1.close()"
   ]
  },
  {
   "cell_type": "code",
   "execution_count": null,
   "id": "a3c8b89c",
   "metadata": {},
   "outputs": [],
   "source": [
    "###  Write a Python program to count the frequency of words in a file.\n",
    "f1 = open(\"/home/jack/rahul_file(handling)./rahul_file.txt\",\"r\")\n",
    "s = (f1.read()).split()\n",
    "\n",
    "\n",
    "search_word = input(\"Enter search word:- \")\n",
    "time = 0\n",
    "for i in s:\n",
    "    if i == search_word:\n",
    "        time += 1\n",
    "print(f\"This word will found {time} times in file\")\n",
    "f1.close()"
   ]
  },
  {
   "cell_type": "code",
   "execution_count": null,
   "id": "5c31419a",
   "metadata": {},
   "outputs": [],
   "source": [
    "### Write a Python program to write a list to a file.\n",
    "\n",
    "f1 = open(\"/home/jack/rahul_file(handling)./rahul_file.txt\",\"w+\")\n",
    "list1 = []\n",
    "for i in range(3):\n",
    "    name = input(\"Enter name:- \")\n",
    "    list1.append(name +\" \\n\")\n",
    "x = f1.writelines(list1)\n",
    "f1.seek(0)\n",
    "print(f1.readlines())\n",
    "f1.close()\n"
   ]
  },
  {
   "cell_type": "code",
   "execution_count": null,
   "id": "dc709ef0",
   "metadata": {},
   "outputs": [],
   "source": [
    "###  Write a Python program to copy the contents of a file to another file.\n",
    "\n",
    "my_file = open(\"/home/jack/rahul_file(handling)./rahul_file.txt\",\"r\")\n",
    "s = my_file.read()\n",
    "copy = s[:]\n",
    "print(copy)\n",
    "my_file.close()"
   ]
  },
  {
   "cell_type": "code",
   "execution_count": null,
   "id": "13d10be0",
   "metadata": {},
   "outputs": [],
   "source": [
    "####  Explain Exception handling? What is an Error in Python?\n",
    "\n",
    "## when a python script encounters a situation that it cannot cope with, \n",
    "## it raises an exception. An exception is a python object that represents an error.\n",
    "## When a python script raises an exception, it must either handle the exception immediately\n",
    "## otherwise it terminetes and quits.\n",
    "\n",
    "## The most common reason of an error in a python programis when certain statement is not accordance \n",
    "## with the prescribed usage.such an error is called a syntax error,\n",
    "## The Python interpreter immediately reports it, usually along with the reason."
   ]
  },
  {
   "cell_type": "code",
   "execution_count": null,
   "id": "3d381dbd",
   "metadata": {},
   "outputs": [],
   "source": [
    "###  How many except statements can a try-except block have? Name Some\n",
    "##   built-in exception classes:\n",
    "\n",
    "# NameError\n",
    "# AttributeError\n",
    "# ImportError\n",
    "# IndexError\n",
    "# KeyError\n",
    "# SyntaxError\n",
    "# TypeError\n",
    "# ZeroDevisionError\n",
    "# ValueError"
   ]
  },
  {
   "cell_type": "code",
   "execution_count": null,
   "id": "f10d1221",
   "metadata": {},
   "outputs": [],
   "source": [
    "###  When will the else part of try-except-else be executed?\n",
    "\n",
    "## Yes -->  The else part is executed when no exception occurs."
   ]
  },
  {
   "cell_type": "code",
   "execution_count": null,
   "id": "f3eb235e",
   "metadata": {},
   "outputs": [],
   "source": [
    "###  Can one block of except statements handle multiple exception?\n",
    "\n",
    "# Yes --> like TypeError, SyntaxError, ValueError etc.."
   ]
  },
  {
   "cell_type": "code",
   "execution_count": null,
   "id": "e30e7d90",
   "metadata": {},
   "outputs": [],
   "source": [
    "### When is the finally block executed?\n",
    "\n",
    "## finally block is always exucuted."
   ]
  },
  {
   "cell_type": "code",
   "execution_count": null,
   "id": "9445f829",
   "metadata": {},
   "outputs": [],
   "source": [
    "### What happens when „1‟== 1 is executed?\n",
    "\n",
    "##  It simply evaluates to False and does not raise any exception."
   ]
  },
  {
   "cell_type": "code",
   "execution_count": null,
   "id": "2094407a",
   "metadata": {},
   "outputs": [],
   "source": [
    "#### How Do You Handle Exceptions With Try/Except/Finally In Python?\n",
    "# Explain with coding snippets.\n",
    "\n",
    "num = int(input(\"Enter number under 3:- \"))\n",
    "try:\n",
    "    num > 3\n",
    "except:\n",
    "    print(\"Something went wrong\")\n",
    "else:\n",
    "    print(\"Nothing went wrong\")\n",
    "finally:\n",
    "    print(\"The try...except block is finished\")\n"
   ]
  },
  {
   "cell_type": "code",
   "execution_count": null,
   "id": "f8601c32",
   "metadata": {},
   "outputs": [],
   "source": [
    "###  Write python program that user to enter only odd numbers, else will raise\n",
    "# an exception.\n",
    "\n",
    "user = int(input(\"Enter only odd numbers:- \"))\n",
    "\n",
    "if user % 2 == 0:\n",
    "    raise ValueError(\"Plzz enter only odd numbers: \")\n",
    "else:\n",
    "    print(\"your input is still work in progress:\")\n"
   ]
  },
  {
   "cell_type": "code",
   "execution_count": null,
   "id": "9e27a9ff",
   "metadata": {},
   "outputs": [],
   "source": [
    "### What are oops concepts? Is multiple inheritance supported in java\n",
    "\n",
    "\n",
    "## What are Python OOPs Concepts? Major OOP (object-oriented programming)\n",
    "# concepts in Python include Class, Object, Method, Inheritance, Polymorphism,\n",
    "# Data Abstraction, and Encapsulation.\n",
    "\n",
    "##--> yes,The Java programming language supports multiple inheritance of type\n"
   ]
  },
  {
   "cell_type": "code",
   "execution_count": null,
   "id": "fd530893",
   "metadata": {},
   "outputs": [],
   "source": [
    "####  How to Define a Class in Python? What Is Self? Give An Example Of A Python Class\n",
    "\n",
    "## how to define a class:- \n",
    "  \n",
    "class define():\n",
    "    school_name = \"L.D high school\"\n",
    "    def __init__(self,std):\n",
    "        self.std = std\n",
    "s1 = define(5)\n",
    "s1.school_name\n",
    "## what is self :-\n",
    "\n",
    "#--> self is parameter, self point the current instance of the class"
   ]
  },
  {
   "cell_type": "code",
   "execution_count": null,
   "id": "35dc7bf9",
   "metadata": {},
   "outputs": [],
   "source": [
    "### Write a Python class named Rectangle constructed by a length and width\n",
    "# and a method which will compute the area of a rectangle\n",
    "\n",
    "class Rectangle_Construct():\n",
    "    def find_area(self,height,width):\n",
    "        self.area = height * width\n",
    "        return self.area\n",
    "\n",
    "s1 = Rectangle_Construct()\n",
    "s1.find_area(12,34)"
   ]
  },
  {
   "cell_type": "code",
   "execution_count": null,
   "id": "c993aae3",
   "metadata": {},
   "outputs": [],
   "source": [
    "#### Write a Python class named Circle constructed by a radius and two\n",
    "# methods which will compute the area and the perimeter of a circle\n",
    "\n",
    "class Circle():\n",
    "    def Find_area(self,redius):\n",
    "        self.area = 2*3.14*redius\n",
    "        return self.area\n",
    "s = Circle()\n",
    "s.Find_area(34)"
   ]
  },
  {
   "cell_type": "code",
   "execution_count": null,
   "id": "d7702016",
   "metadata": {},
   "outputs": [],
   "source": [
    "###  Explain Inheritance in Python with an example? What is init? Or What Is\n",
    "# A Constructor In Python? \n",
    "\n",
    "# It represents real-world relationship well.\n",
    "# It is provides the reusability of a code, we don't have to write same \n",
    "# code again and again, also it's allow us to add more features to a \n",
    "# class without modifying it.\n",
    "\n",
    "class Dad():\n",
    "    property1 = \"dolat\"\n",
    "    def dad_car(self):\n",
    "        print(\"this car is your after me\")\n",
    "class Son(Dad):\n",
    "    pass\n",
    "\n",
    "s1 = Son()\n",
    "s1.dad_car()\n",
    "\n",
    "\n",
    "## what is \"__INIT__\"?\n",
    "##-->  \"__INIT__\" is a reseerved method in python classes.it is known as constructor\n",
    "##     in oop concept.This method called when an object is created from the class and\n",
    "##     it allows the class to initilize the attribute of a class."
   ]
  },
  {
   "cell_type": "code",
   "execution_count": null,
   "id": "29207fb7",
   "metadata": {},
   "outputs": [],
   "source": [
    "### What is Instantiation in terms of OOP terminology?\n",
    "\n",
    "### In oop terminology instantiation means \"creating an object/instance for class\"\n",
    "\n",
    "## In general instantiation means to start, represent and preeced something as."
   ]
  },
  {
   "cell_type": "code",
   "execution_count": null,
   "id": "ddcac587",
   "metadata": {},
   "outputs": [],
   "source": [
    "###  What is used to check whether an object o is an instance of class A?\n",
    "\n",
    "class Student():\n",
    "    school_name = \"L.D high school\"\n",
    "    a = (1,3,4)\n",
    "    \n",
    "s = Student()\n",
    "print(isinstance(s,Student))\n",
    "\n",
    "### Return true if the object is an instance or subclass of a class, \n",
    "# or any element of the tuple false otherwise. "
   ]
  },
  {
   "cell_type": "code",
   "execution_count": null,
   "id": "7ca772b7",
   "metadata": {},
   "outputs": [],
   "source": []
  }
 ],
 "metadata": {
  "kernelspec": {
   "display_name": "Python 3 (ipykernel)",
   "language": "python",
   "name": "python3"
  },
  "language_info": {
   "codemirror_mode": {
    "name": "ipython",
    "version": 3
   },
   "file_extension": ".py",
   "mimetype": "text/x-python",
   "name": "python",
   "nbconvert_exporter": "python",
   "pygments_lexer": "ipython3",
   "version": "3.9.12"
  }
 },
 "nbformat": 4,
 "nbformat_minor": 5
}
